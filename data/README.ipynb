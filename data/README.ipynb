{
 "cells": [
  {
   "cell_type": "markdown",
   "id": "0f04fe2c",
   "metadata": {},
   "source": [
    "# Beispiele zum Kurs [IoT, Microservices, Machine Learning und DevOps – Moderne architektur-relevante Methoden und Technologien («MODTEC»)](https://www.digicomp.ch/trends/devops-trainings/iot-microservices-machine-learning-und-devops-moderne-architektur-relevante-methoden-und-technologien)\n"
   ]
  },
  {
   "cell_type": "markdown",
   "id": "4b969570",
   "metadata": {},
   "source": [
    "## Übungen\n",
    "\n",
    "### 01-Internet der Dinge (IoT)\n",
    "\n",
    "* [M5Stack IDE](https://flow.m5stack.com/)\n",
    "\n",
    "### 02-IoT Architektur\n",
    "\n",
    "* [MQTT Subscriber starten](../../duk/data/jupyter/functions/mqtt-iot-subscriber/mqtt-iot-subscriber-1.0.0.ipynb)\n",
    "* [M5Stack IDE](https://flow.m5stack.com/)\n",
    "\n",
    "### 03-Infrastructure as Code\n",
    "\n",
    "* [Cloud-init](https://gitlab.com/ch-mc-b/cdi/infra/02-cloud-init)\n",
    "* [Terraform](https://gitlab.com/ch-mc-b/cdi/infra/02-terraform)\n",
    "\n",
    "### 04-Cloud\n",
    "\n",
    "* [Terraform](https://gitlab.com/ch-mc-b/cdi/infra/02-terraform) - Umbau auf Azure Cloud\n",
    "\n",
    "### 05-Container, Basics und Konzepte\n",
    "\n",
    "* [Container Standards](../../duk/data/jupyter/01-1-Container-Standards.ipynb)\n",
    "\n",
    "### 06-Kubernetes (K8s)\n",
    "\n",
    "* [Cluster](../../duk/data/jupyter/06-2-Cluster.ipynb)\n",
    "* [Overlay Netzwerke](../../duk/data/jupyter/06-2-OverlayNetwork.ipynb)\n",
    "* [Kubernetes Namespaces](../../duk/data/jupyter/06-3-KubernetesNamespaces.ipynb)\n",
    "\n",
    "### 07-Anbindung der Fachapplikationen und Operator Pattern\n",
    "\n",
    "* [Cloudflare Tunnel](00-common/Cloudflare.ipynb)\n",
    "\n",
    "* [IoTKit Board sendet Daten an Fachapplikation mittels HTTP (ein Empfänger) ](../../duk/data/jupyter/functions/order/order.ipynb)\n",
    "* [Asynchrone Kommunikation (1:n Empfänger)](../../k8sd2o/data/00-common/Serving-Eventing/02-K-native-Broker.ipynb)\n",
    "\n",
    "* [IIoT MQTT Operator](00-common/IIoT/IIoT.ipynb)\n",
    "* [Asynchrone Kommunikation mittels MQTT (1:n Empfänger, Skaliert)](../../k8sd2o/data/00-common/Serving-Eventing/03-K-native-IIoT.ipynb)\n",
    "\n",
    "### 08-Machine Learning\n",
    "\n",
    "* [ML/IoT Anwendung](../../duk/data/jupyter/mlg/02-2-MLTempHumSensor.ipynb)\n",
    "* [Einführung in Machine Learning (Quick Start)](../../duk/data/jupyter/mlg/02-1-QuickStart.ipynb) \n"
   ]
  },
  {
   "cell_type": "code",
   "execution_count": null,
   "id": "16ff3598",
   "metadata": {},
   "outputs": [],
   "source": []
  }
 ],
 "metadata": {
  "kernelspec": {
   "display_name": "Python 3 (ipykernel)",
   "language": "python",
   "name": "python3"
  },
  "language_info": {
   "codemirror_mode": {
    "name": "ipython",
    "version": 3
   },
   "file_extension": ".py",
   "mimetype": "text/x-python",
   "name": "python",
   "nbconvert_exporter": "python",
   "pygments_lexer": "ipython3",
   "version": "3.12.3"
  }
 },
 "nbformat": 4,
 "nbformat_minor": 5
}
