{
 "cells": [
  {
   "cell_type": "markdown",
   "id": "0f04fe2c",
   "metadata": {},
   "source": [
    "# Beispiele zum Kurs [IoT, Microservices, Machine Learning und DevOps – Moderne architektur-relevante Methoden und Technologien («MODTEC»)](https://www.digicomp.ch/trends/devops-trainings/iot-microservices-machine-learning-und-devops-moderne-architektur-relevante-methoden-und-technologien)\n"
   ]
  },
  {
   "cell_type": "markdown",
   "id": "4b969570",
   "metadata": {},
   "source": [
    "## Übungen\n",
    "\n",
    "### Internet der Dinge (IoT)\n",
    "\n",
    "* [M5Stack IDE](https://flow.m5stack.com/)\n",
    "\n",
    "### IoT Protokolle\n",
    "\n",
    "* [MQTT Subscriber starten](../../duk/data/jupyter/functions/mqtt-iot-subscriber/mqtt-iot-subscriber-1.0.0.ipynb)\n",
    "\n",
    "### Backend: Microservices und Infrastruktur \n",
    "\n",
    "* [Applikationen deployen (GitOps)](../../k8sd2o/data/00-common/GitOps/ArgoCD.ipynb)\n",
    "\n",
    "### Anbindung der Fachapplikationen\n",
    "\n",
    "* [IoTKit Board sendet Daten an Fachapplikation mittels HTTP (ein Empfänger) ](../../duk/data/jupyter/functions/order/order.ipynb)\n",
    "* [Asynchrone Kommunikation (1:n Empfänger)](../../k8sd2o/data/00-common/Serving-Eventing/02-K-native-Broker.ipynb)\n",
    "\n",
    "### Operator Pattern \n",
    "\n",
    "* [IIoT MQTT Operator](00-common/IIoT/IIoT.ipynb)\n",
    "* [Asynchrone Kommunikation mittels MQTT (1:n Empfänger, Skaliert)](../../k8sd2o/data/00-common/Serving-Eventing/03-K-native-IIoT.ipynb)\n",
    "\n",
    "### Machine Learning\n",
    "\n",
    "* [ML/IoT Anwendung](../../duk/data/jupyter/mlg/02-2-MLTempHumSensor.ipynb)\n",
    "* [Einführung in Machine Learning (Quick Start)](../../duk/data/jupyter/mlg/02-1-QuickStart.ipynb) \n"
   ]
  }
 ],
 "metadata": {
  "language_info": {
   "name": "python"
  }
 },
 "nbformat": 4,
 "nbformat_minor": 5
}
