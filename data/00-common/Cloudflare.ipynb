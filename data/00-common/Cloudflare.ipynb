{
 "cells": [
  {
   "cell_type": "markdown",
   "id": "c55520af",
   "metadata": {},
   "source": [
    "# Cloudflare(d)\n",
    "\n",
    "Cloudflare Tunnel ist ein Dienst, mit dem sich interne Anwendungen, Server oder lokale Dienste sicher mit dem Internet verbinden lassen, ohne dass Ports geöffnet oder komplexe Firewall-Regeln konfiguriert werden müssen. \n",
    "\n",
    "Stattdessen baut der Tunnel eine ausgehende, verschlüsselte Verbindung zu Cloudflare auf, über die Anfragen sicher an den eigenen Dienst weitergeleitet werden. \n",
    "\n",
    "Dadurch lassen sich Web-Apps, APIs oder Admin-Interfaces einfach, schnell und geschützt veröffentlichen – auch hinter NAT oder Firewalls.\n",
    "\n",
    "**Installation**"
   ]
  },
  {
   "cell_type": "code",
   "execution_count": null,
   "id": "2b00361e",
   "metadata": {},
   "outputs": [],
   "source": [
    "%%bash\n",
    "wget https://github.com/cloudflare/cloudflared/releases/latest/download/cloudflared-linux-amd64.deb\n",
    "sudo dpkg -i cloudflared-linux-amd64.deb"
   ]
  },
  {
   "cell_type": "markdown",
   "id": "db298481",
   "metadata": {},
   "source": [
    "## Externer Zugriff\n",
    "\n",
    "Da sich das IoT Gerät und unser Backend sich in einem anderen Netzwerk befinden, erstellen wir einen externen Zugriffspunkt für das Backend."
   ]
  },
  {
   "cell_type": "markdown",
   "id": "03c7f01a",
   "metadata": {},
   "source": [
    "### Übung: [IoTKit Board sendet Daten an Fachapplikation mittels HTTP (ein Empfänger) ](../../../duk/data/jupyter/functions/order/order.ipynb)\n",
    "\n",
    "**Achtung**: Beim M5Stack Gerät ist der HTTP Header Eintrag \"Host\" zu entfernen!"
   ]
  },
  {
   "cell_type": "code",
   "execution_count": null,
   "id": "5ce38faa",
   "metadata": {},
   "outputs": [],
   "source": [
    "%%bash\n",
    "cloudflared tunnel --loglevel debug --url http://$(cat ~/work/server-ip):8080 "
   ]
  },
  {
   "cell_type": "markdown",
   "id": "0ba99400",
   "metadata": {},
   "source": [
    "### Übung: [Asynchrone Kommunikation (1:n Empfänger)](..(../../k8sd2o/data/00-common/Serving-Eventing/02-K-native-Broker.ipynb)\n",
    "\n",
    "Nach dem entfernen des HTTP Headers Eintrages im M5Stack Gerät müssen wir den Host Eintrag im Cloudflare setzen.\n"
   ]
  },
  {
   "cell_type": "code",
   "execution_count": null,
   "id": "aa5ba2df",
   "metadata": {},
   "outputs": [],
   "source": [
    "%%bash\n",
    "cloudflared tunnel --url http://$(cat ~/work/server-ip):30080/ms-brkr/default \\\n",
    "  --http-host-header broker-ingress.knative-eventing.svc.cluster.local"
   ]
  },
  {
   "cell_type": "code",
   "execution_count": null,
   "id": "009ea993",
   "metadata": {},
   "outputs": [],
   "source": []
  }
 ],
 "metadata": {
  "kernelspec": {
   "display_name": "Python 3 (ipykernel)",
   "language": "python",
   "name": "python3"
  },
  "language_info": {
   "codemirror_mode": {
    "name": "ipython",
    "version": 3
   },
   "file_extension": ".py",
   "mimetype": "text/x-python",
   "name": "python",
   "nbconvert_exporter": "python",
   "pygments_lexer": "ipython3",
   "version": "3.12.3"
  }
 },
 "nbformat": 4,
 "nbformat_minor": 5
}
