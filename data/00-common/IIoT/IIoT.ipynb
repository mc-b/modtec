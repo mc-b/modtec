{
 "cells": [
  {
   "cell_type": "markdown",
   "id": "085afb6d",
   "metadata": {},
   "source": [
    "# Industrial Internet of Things\n",
    "\n",
    "![](https://gitlab.com/ch-mc-b/autoshop-ms/infra/iiot/-/raw/main/images/crds.png)\n",
    "\n",
    "Custom Resources\n",
    "- - -\n",
    "\n",
    "Device – IoT Device, z.B. M5StackCore, Atom etc. beinhaltet Sensor und Actor\n",
    "\n",
    "MQTTDevice empfängt Daten mittels des MQTT-Protokolls. HTTP und Matter Device (* in Planung).\n",
    "\n",
    "### Custom Resources\n",
    "\n",
    "Custom Resources erstellen. Diese sind Global im Cluster verfügbar."
   ]
  },
  {
   "cell_type": "code",
   "execution_count": null,
   "id": "bbfc794d",
   "metadata": {},
   "outputs": [],
   "source": [
    "%%bash    \n",
    "git clone https://gitlab.com/ch-mc-b/autoshop-ms/infra/iiot.git\n",
    "cd iiot\n",
    "kubectl apply -f crd"
   ]
  },
  {
   "cell_type": "markdown",
   "id": "330a7b1f",
   "metadata": {},
   "source": [
    "Sensoren, Aktoren und Devices erstellen für die [M5Stack](https://m5stack.com/) IoT Geräte    "
   ]
  },
  {
   "cell_type": "code",
   "execution_count": null,
   "id": "d55764d2",
   "metadata": {},
   "outputs": [],
   "source": [
    "%%bash\n",
    "cd iiot\n",
    "kubectl apply -f m5stack/sensors -f m5stack/actors -f m5stack/devices"
   ]
  },
  {
   "cell_type": "markdown",
   "id": "f7386514",
   "metadata": {},
   "source": [
    "Ausgabe der erstellten Geräte"
   ]
  },
  {
   "cell_type": "code",
   "execution_count": null,
   "id": "f6de7b7a",
   "metadata": {},
   "outputs": [],
   "source": [
    "%%bash\n",
    "kubectl get devices,sensors,actors\n",
    "echo \"--------------------------------------\"\n",
    "kubectl describe sensor enviii   "
   ]
  },
  {
   "cell_type": "markdown",
   "id": "eec950a4",
   "metadata": {},
   "source": [
    "### Operator deployen"
   ]
  },
  {
   "cell_type": "code",
   "execution_count": null,
   "id": "1f8a4b70",
   "metadata": {},
   "outputs": [],
   "source": [
    "%%bash\n",
    "cd iiot\n",
    "kubectl apply  -f mqtt-operator\n",
    "kubectl wait --for=condition=Ready pod mqtt-operator --timeout=300s\n",
    "kubectl get pods"
   ]
  },
  {
   "cell_type": "markdown",
   "id": "9fdad5c8",
   "metadata": {},
   "source": [
    "### Eigene MQTTDevices\n",
    "\n",
    "Um eine MQTT Device zu erstellen, benötigen wir eine YAML Datei.\n",
    "\n",
    "Dabei sind folgende Werte anpassbar\n",
    "* **name**: frei wählbar, \n",
    "* **deviceRef**: zeigen auf die erstellen Devices (`kubectl get devices`). `m5stack-core` und `m5stack-atom` sind zulässig\n",
    "* **topic**: wird als erster Eintrag im Topic verwendet, z.B. `mydevice/....`\n",
    "* **pvcName**: wo werden die Daten gespeichert (`kubectl get persistentvolumeclaim`). `data-claim` das Verzeichnis `/data` auf der VM, `longhorn-rwx` ein longhorn Volume."
   ]
  },
  {
   "cell_type": "code",
   "execution_count": null,
   "id": "8c341cf6",
   "metadata": {},
   "outputs": [],
   "source": [
    "%%bash\n",
    "kubectl apply -f - <<EOF\n",
    "apiVersion: iiot.mc-b.ch/v1alpha1\n",
    "kind: MQTTDevice\n",
    "metadata:\n",
    "  name: $(cat ~/work/server-ip)\n",
    "spec:\n",
    "  deviceRef: m5stack-core  # Name der referenzierten Device-Ressource\n",
    "  mqttSettings:\n",
    "    broker: mqtt://cloud.tbz.ch:11883  # URL des MQTT-Brokers\n",
    "    topic: $(cat ~/work/server-ip)  # MQTT-Topic für das Gerät\n",
    "    qos: 1  # Quality of Service Level (0, 1 oder 2)\n",
    "    retain: false  # Nachricht zurückhalten (true oder false)\n",
    "  storage:\n",
    "    pvcName: \"data-claim\"\n",
    "    mountPath: \"/data\"\n",
    "EOF\n"
   ]
  },
  {
   "cell_type": "code",
   "execution_count": null,
   "id": "4149e1db",
   "metadata": {},
   "outputs": [],
   "source": [
    "%%bash\n",
    "kubectl logs mqtt-listener-$(cat ~/work/server-ip)"
   ]
  },
  {
   "cell_type": "markdown",
   "id": "3f33dbe8",
   "metadata": {},
   "source": [
    "## IIoT Dashboard \n",
    "\n",
    "Die Implementierung verfügt über ein Dashboard mit einer Übersicht der IoT Geräte und der Möglichkeit Events an die verschiedenen Topics zu senden."
   ]
  },
  {
   "cell_type": "code",
   "execution_count": null,
   "id": "ed0c62f6",
   "metadata": {},
   "outputs": [],
   "source": [
    "%%bash\n",
    "sed -i -e 's/10.0.40.8/cloud.tbz.ch/g' iiot/mqtt-device-ui/mqtt-device-ui.yaml\n",
    "cd iiot\n",
    "kubectl apply  -f mqtt-device-ui    \n",
    "echo \"http://\"$(cat ~/work/server-ip)\":$(kubectl get service mqtt-device-ui -o=jsonpath='{ .spec.ports[0].nodePort }')/\" "
   ]
  },
  {
   "cell_type": "code",
   "execution_count": null,
   "id": "40f9e724",
   "metadata": {},
   "outputs": [],
   "source": []
  },
  {
   "cell_type": "markdown",
   "id": "26e1601d",
   "metadata": {},
   "source": [
    "## Aufräumen\n"
   ]
  },
  {
   "cell_type": "code",
   "execution_count": null,
   "id": "9f7e7a3f",
   "metadata": {},
   "outputs": [],
   "source": [
    "%%bash\n",
    "cd iiot\n",
    "kubectl delete -f m5stack/mqtt # --grace-period=0 --force \n",
    "kubectl delete mqttdevice $(cat ~/work/server-ip)\n",
    "kubectl delete -f mqtt-operator # --grace-period=0 --force \n",
    "kubectl delete -f mqtt-device-ui # --grace-period=0 --force \n",
    "kubectl delete -f m5stack/sensors -f m5stack/actors -f m5stack/devices    \n",
    "kubectl delete -f crd"
   ]
  },
  {
   "cell_type": "code",
   "execution_count": null,
   "id": "ac101adf",
   "metadata": {},
   "outputs": [],
   "source": []
  }
 ],
 "metadata": {
  "kernelspec": {
   "display_name": "Python 3 (ipykernel)",
   "language": "python",
   "name": "python3"
  },
  "language_info": {
   "codemirror_mode": {
    "name": "ipython",
    "version": 3
   },
   "file_extension": ".py",
   "mimetype": "text/x-python",
   "name": "python",
   "nbconvert_exporter": "python",
   "pygments_lexer": "ipython3",
   "version": "3.12.3"
  }
 },
 "nbformat": 4,
 "nbformat_minor": 5
}
